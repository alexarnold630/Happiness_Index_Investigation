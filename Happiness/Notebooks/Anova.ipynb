{
 "cells": [
  {
   "cell_type": "code",
   "execution_count": 1,
   "metadata": {},
   "outputs": [],
   "source": [
    "import pandas as pd\n",
    "import numpy as np\n",
    "import scipy.stats as stats\n",
    "import matplotlib.pyplot as plt"
   ]
  },
  {
   "cell_type": "code",
   "execution_count": 2,
   "metadata": {},
   "outputs": [
    {
     "data": {
      "text/html": [
       "<div>\n",
       "<style scoped>\n",
       "    .dataframe tbody tr th:only-of-type {\n",
       "        vertical-align: middle;\n",
       "    }\n",
       "\n",
       "    .dataframe tbody tr th {\n",
       "        vertical-align: top;\n",
       "    }\n",
       "\n",
       "    .dataframe thead th {\n",
       "        text-align: right;\n",
       "    }\n",
       "</style>\n",
       "<table border=\"1\" class=\"dataframe\">\n",
       "  <thead>\n",
       "    <tr style=\"text-align: right;\">\n",
       "      <th></th>\n",
       "      <th>Country</th>\n",
       "      <th>Happiness Rank</th>\n",
       "      <th>Happiness Score</th>\n",
       "      <th>Economy (GDP per Capita)</th>\n",
       "      <th>Social Support</th>\n",
       "      <th>Health Life Expectancy</th>\n",
       "      <th>Freedom</th>\n",
       "      <th>Trust (Government Corruption)</th>\n",
       "      <th>Generosity</th>\n",
       "      <th>Year</th>\n",
       "    </tr>\n",
       "  </thead>\n",
       "  <tbody>\n",
       "    <tr>\n",
       "      <th>0</th>\n",
       "      <td>Switzerland</td>\n",
       "      <td>1</td>\n",
       "      <td>7.587</td>\n",
       "      <td>1.39651</td>\n",
       "      <td>1.34951</td>\n",
       "      <td>0.94143</td>\n",
       "      <td>0.66557</td>\n",
       "      <td>0.41978</td>\n",
       "      <td>0.29678</td>\n",
       "      <td>2015</td>\n",
       "    </tr>\n",
       "    <tr>\n",
       "      <th>1</th>\n",
       "      <td>Iceland</td>\n",
       "      <td>2</td>\n",
       "      <td>7.561</td>\n",
       "      <td>1.30232</td>\n",
       "      <td>1.40223</td>\n",
       "      <td>0.94784</td>\n",
       "      <td>0.62877</td>\n",
       "      <td>0.14145</td>\n",
       "      <td>0.43630</td>\n",
       "      <td>2015</td>\n",
       "    </tr>\n",
       "    <tr>\n",
       "      <th>2</th>\n",
       "      <td>Denmark</td>\n",
       "      <td>3</td>\n",
       "      <td>7.527</td>\n",
       "      <td>1.32548</td>\n",
       "      <td>1.36058</td>\n",
       "      <td>0.87464</td>\n",
       "      <td>0.64938</td>\n",
       "      <td>0.48357</td>\n",
       "      <td>0.34139</td>\n",
       "      <td>2015</td>\n",
       "    </tr>\n",
       "    <tr>\n",
       "      <th>3</th>\n",
       "      <td>Norway</td>\n",
       "      <td>4</td>\n",
       "      <td>7.522</td>\n",
       "      <td>1.45900</td>\n",
       "      <td>1.33095</td>\n",
       "      <td>0.88521</td>\n",
       "      <td>0.66973</td>\n",
       "      <td>0.36503</td>\n",
       "      <td>0.34699</td>\n",
       "      <td>2015</td>\n",
       "    </tr>\n",
       "    <tr>\n",
       "      <th>4</th>\n",
       "      <td>Canada</td>\n",
       "      <td>5</td>\n",
       "      <td>7.427</td>\n",
       "      <td>1.32629</td>\n",
       "      <td>1.32261</td>\n",
       "      <td>0.90563</td>\n",
       "      <td>0.63297</td>\n",
       "      <td>0.32957</td>\n",
       "      <td>0.45811</td>\n",
       "      <td>2015</td>\n",
       "    </tr>\n",
       "  </tbody>\n",
       "</table>\n",
       "</div>"
      ],
      "text/plain": [
       "       Country  Happiness Rank  Happiness Score  Economy (GDP per Capita)  \\\n",
       "0  Switzerland               1            7.587                   1.39651   \n",
       "1      Iceland               2            7.561                   1.30232   \n",
       "2      Denmark               3            7.527                   1.32548   \n",
       "3       Norway               4            7.522                   1.45900   \n",
       "4       Canada               5            7.427                   1.32629   \n",
       "\n",
       "   Social Support  Health Life Expectancy  Freedom  \\\n",
       "0         1.34951                 0.94143  0.66557   \n",
       "1         1.40223                 0.94784  0.62877   \n",
       "2         1.36058                 0.87464  0.64938   \n",
       "3         1.33095                 0.88521  0.66973   \n",
       "4         1.32261                 0.90563  0.63297   \n",
       "\n",
       "   Trust (Government Corruption)  Generosity  Year  \n",
       "0                        0.41978     0.29678  2015  \n",
       "1                        0.14145     0.43630  2015  \n",
       "2                        0.48357     0.34139  2015  \n",
       "3                        0.36503     0.34699  2015  \n",
       "4                        0.32957     0.45811  2015  "
      ]
     },
     "execution_count": 2,
     "metadata": {},
     "output_type": "execute_result"
    }
   ],
   "source": [
    "filepath = \"../Resources/Vertical_Merge.csv\"\n",
    "df = pd.read_csv(filepath)\n",
    "df.head()"
   ]
  },
  {
   "cell_type": "code",
   "execution_count": 3,
   "metadata": {},
   "outputs": [
    {
     "name": "stdout",
     "output_type": "stream",
     "text": [
      "Year\n",
      "2015    5.375734\n",
      "2016    5.382185\n",
      "2017    5.354019\n",
      "2018    5.366897\n",
      "2019    5.407096\n",
      "2020    5.473240\n",
      "Name: Happiness Score, dtype: float64\n",
      "Year\n",
      "2015    0.846137\n",
      "2016    0.953880\n",
      "2017    0.984718\n",
      "2018    0.883677\n",
      "2019    0.905147\n",
      "2020    0.929571\n",
      "Name: Economy (GDP per Capita), dtype: float64\n",
      "Year\n",
      "2015    0.630259\n",
      "2016    0.557619\n",
      "2017    0.551341\n",
      "2018    0.596877\n",
      "2019    0.725244\n",
      "2020    0.644455\n",
      "Name: Health Life Expectancy, dtype: float64\n"
     ]
    }
   ],
   "source": [
    "print(df.groupby(\"Year\")[\"Happiness Score\"].mean())\n",
    "print(df.groupby(\"Year\")[\"Economy (GDP per Capita)\"].mean())\n",
    "print(df.groupby(\"Year\")[\"Health Life Expectancy\"].mean())"
   ]
  },
  {
   "cell_type": "code",
   "execution_count": 4,
   "metadata": {},
   "outputs": [],
   "source": [
    "grpHap1 = df[df[\"Year\"]==2015] [\"Happiness Score\"]\n",
    "grpHap2 = df[df[\"Year\"]==2016] [\"Happiness Score\"]\n",
    "grpHap3 = df[df[\"Year\"]==2017] [\"Happiness Score\"]\n",
    "grpHap4 = df[df[\"Year\"]==2018] [\"Happiness Score\"]\n",
    "grpHap5 = df[df[\"Year\"]==2019] [\"Happiness Score\"]\n",
    "grpHap6 = df[df[\"Year\"]==2020] [\"Happiness Score\"]"
   ]
  },
  {
   "cell_type": "code",
   "execution_count": 5,
   "metadata": {},
   "outputs": [
    {
     "data": {
      "text/plain": [
       "F_onewayResult(statistic=0.2240305396190551, pvalue=0.9522023583869341)"
      ]
     },
     "execution_count": 5,
     "metadata": {},
     "output_type": "execute_result"
    }
   ],
   "source": [
    "stats.f_oneway(grpHap1, grpHap2, grpHap3, grpHap4, grpHap5, grpHap6)"
   ]
  },
  {
   "cell_type": "markdown",
   "metadata": {},
   "source": [
    "By taking out year 2020, the pvalue is still not statistically significant"
   ]
  },
  {
   "cell_type": "code",
   "execution_count": 6,
   "metadata": {},
   "outputs": [
    {
     "data": {
      "text/plain": [
       "F_onewayResult(statistic=0.04767080981401139, pvalue=0.9957241722614436)"
      ]
     },
     "execution_count": 6,
     "metadata": {},
     "output_type": "execute_result"
    }
   ],
   "source": [
    "stats.f_oneway(grpHap1, grpHap2, grpHap3, grpHap4, grpHap5)"
   ]
  },
  {
   "cell_type": "code",
   "execution_count": 7,
   "metadata": {},
   "outputs": [],
   "source": [
    "grpEcon1 = df[df[\"Year\"]==2015] [\"Economy (GDP per Capita)\"]\n",
    "grpEcon2 = df[df[\"Year\"]==2016] [\"Economy (GDP per Capita)\"]\n",
    "grpEcon3 = df[df[\"Year\"]==2017] [\"Economy (GDP per Capita)\"]\n",
    "grpEcon4 = df[df[\"Year\"]==2018] [\"Economy (GDP per Capita)\"]\n",
    "grpEcon5 = df[df[\"Year\"]==2019] [\"Economy (GDP per Capita)\"]\n",
    "grpEcon6 = df[df[\"Year\"]==2020] [\"Economy (GDP per Capita)\"]"
   ]
  },
  {
   "cell_type": "code",
   "execution_count": 8,
   "metadata": {},
   "outputs": [
    {
     "data": {
      "text/plain": [
       "F_onewayResult(statistic=2.7965841239901525, pvalue=0.016250577893722376)"
      ]
     },
     "execution_count": 8,
     "metadata": {},
     "output_type": "execute_result"
    }
   ],
   "source": [
    "stats.f_oneway(grpEcon1, grpEcon2, grpEcon3, grpEcon4, grpEcon5, grpEcon6)"
   ]
  },
  {
   "cell_type": "markdown",
   "metadata": {},
   "source": [
    "By taking out year 2015, the pvalue is no longer statistically significant"
   ]
  },
  {
   "cell_type": "code",
   "execution_count": 9,
   "metadata": {},
   "outputs": [
    {
     "data": {
      "text/plain": [
       "F_onewayResult(statistic=1.8363845431711021, pvalue=0.11990240226254298)"
      ]
     },
     "execution_count": 9,
     "metadata": {},
     "output_type": "execute_result"
    }
   ],
   "source": [
    "stats.f_oneway(grpEcon2, grpEcon3, grpEcon4, grpEcon5, grpEcon6)"
   ]
  },
  {
   "cell_type": "code",
   "execution_count": 10,
   "metadata": {},
   "outputs": [],
   "source": [
    "grpSS1 = df[df[\"Year\"]==2015] [\"Social Support\"]\n",
    "grpSS2 = df[df[\"Year\"]==2016] [\"Social Support\"]\n",
    "grpSS3 = df[df[\"Year\"]==2017] [\"Social Support\"]\n",
    "grpSS4 = df[df[\"Year\"]==2018] [\"Social Support\"]\n",
    "grpSS5 = df[df[\"Year\"]==2019] [\"Social Support\"]\n",
    "grpSS6 = df[df[\"Year\"]==2020] [\"Social Support\"]"
   ]
  },
  {
   "cell_type": "code",
   "execution_count": 11,
   "metadata": {},
   "outputs": [
    {
     "data": {
      "text/plain": [
       "F_onewayResult(statistic=87.07406685757832, pvalue=4.1560680845995535e-75)"
      ]
     },
     "execution_count": 11,
     "metadata": {},
     "output_type": "execute_result"
    }
   ],
   "source": [
    "stats.f_oneway(grpSS1, grpSS2, grpSS3, grpSS4, grpSS5, grpSS6)"
   ]
  },
  {
   "cell_type": "code",
   "execution_count": 12,
   "metadata": {},
   "outputs": [],
   "source": [
    "grpHea1 = df[df[\"Year\"]==2015] [\"Health Life Expectancy\"]\n",
    "grpHea2 = df[df[\"Year\"]==2016] [\"Health Life Expectancy\"]\n",
    "grpHea3 = df[df[\"Year\"]==2017] [\"Health Life Expectancy\"]\n",
    "grpHea4 = df[df[\"Year\"]==2018] [\"Health Life Expectancy\"]\n",
    "grpHea5 = df[df[\"Year\"]==2019] [\"Health Life Expectancy\"]\n",
    "grpHea6 = df[df[\"Year\"]==2020] [\"Health Life Expectancy\"]"
   ]
  },
  {
   "cell_type": "code",
   "execution_count": 13,
   "metadata": {},
   "outputs": [
    {
     "data": {
      "text/plain": [
       "F_onewayResult(statistic=13.195561272540331, pvalue=1.9496385451749433e-12)"
      ]
     },
     "execution_count": 13,
     "metadata": {},
     "output_type": "execute_result"
    }
   ],
   "source": [
    "stats.f_oneway(grpHea1, grpHea2, grpHea3, grpHea4, grpHea5, grpHea6)"
   ]
  },
  {
   "cell_type": "markdown",
   "metadata": {},
   "source": [
    "By taking out year 2017, the pvalue is still statistically significant"
   ]
  },
  {
   "cell_type": "code",
   "execution_count": 14,
   "metadata": {},
   "outputs": [
    {
     "data": {
      "text/plain": [
       "F_onewayResult(statistic=12.711871392406819, pvalue=5.030224786226496e-10)"
      ]
     },
     "execution_count": 14,
     "metadata": {},
     "output_type": "execute_result"
    }
   ],
   "source": [
    "stats.f_oneway(grpHea1, grpHea2, grpHea4, grpHea5, grpHea6)"
   ]
  },
  {
   "cell_type": "code",
   "execution_count": 15,
   "metadata": {},
   "outputs": [],
   "source": [
    "grpFree1 = df[df[\"Year\"]==2015] [\"Freedom\"]\n",
    "grpFree2 = df[df[\"Year\"]==2016] [\"Freedom\"]\n",
    "grpFree3 = df[df[\"Year\"]==2017] [\"Freedom\"]\n",
    "grpFree4 = df[df[\"Year\"]==2018] [\"Freedom\"]\n",
    "grpFree5 = df[df[\"Year\"]==2019] [\"Freedom\"]\n",
    "grpFree6 = df[df[\"Year\"]==2020] [\"Freedom\"]"
   ]
  },
  {
   "cell_type": "code",
   "execution_count": 16,
   "metadata": {},
   "outputs": [
    {
     "data": {
      "text/plain": [
       "F_onewayResult(statistic=173.2753697685796, pvalue=3.399434552851821e-130)"
      ]
     },
     "execution_count": 16,
     "metadata": {},
     "output_type": "execute_result"
    }
   ],
   "source": [
    "stats.f_oneway(grpFree1, grpFree2, grpFree3, grpFree4, grpFree5, grpFree6)"
   ]
  },
  {
   "cell_type": "code",
   "execution_count": 17,
   "metadata": {},
   "outputs": [],
   "source": [
    "grpTru1 = df[df[\"Year\"]==2015] [\"Trust (Government Corruption)\"]\n",
    "grpTru2 = df[df[\"Year\"]==2016] [\"Trust (Government Corruption)\"]\n",
    "grpTru3 = df[df[\"Year\"]==2017] [\"Trust (Government Corruption)\"]\n",
    "grpTru4 = df[df[\"Year\"]==2018] [\"Trust (Government Corruption)\"]\n",
    "grpTru5 = df[df[\"Year\"]==2019] [\"Trust (Government Corruption)\"]\n",
    "grpTru6 = df[df[\"Year\"]==2020] [\"Trust (Government Corruption)\"]"
   ]
  },
  {
   "cell_type": "code",
   "execution_count": 18,
   "metadata": {},
   "outputs": [
    {
     "data": {
      "text/plain": [
       "F_onewayResult(statistic=663.1891874472922, pvalue=2.369166021613237e-303)"
      ]
     },
     "execution_count": 18,
     "metadata": {},
     "output_type": "execute_result"
    }
   ],
   "source": [
    "stats.f_oneway(grpTru1, grpTru2, grpTru3, grpTru4, grpTru5, grpTru6)"
   ]
  },
  {
   "cell_type": "code",
   "execution_count": 19,
   "metadata": {},
   "outputs": [],
   "source": [
    "grpGen1 = df[df[\"Year\"]==2015] [\"Generosity\"]\n",
    "grpGen2 = df[df[\"Year\"]==2016] [\"Generosity\"]\n",
    "grpGen3 = df[df[\"Year\"]==2017] [\"Generosity\"]\n",
    "grpGen4 = df[df[\"Year\"]==2018] [\"Generosity\"]\n",
    "grpGen5 = df[df[\"Year\"]==2019] [\"Generosity\"]\n",
    "grpGen6 = df[df[\"Year\"]==2020] [\"Generosity\"]"
   ]
  },
  {
   "cell_type": "code",
   "execution_count": 20,
   "metadata": {},
   "outputs": [
    {
     "data": {
      "text/plain": [
       "F_onewayResult(statistic=97.44634220907243, pvalue=1.3937919451366455e-82)"
      ]
     },
     "execution_count": 20,
     "metadata": {},
     "output_type": "execute_result"
    }
   ],
   "source": [
    "stats.f_oneway(grpGen1, grpGen2, grpGen3, grpGen4, grpGen5, grpGen6)"
   ]
  }
 ],
 "metadata": {
  "kernelspec": {
   "display_name": "Python 3",
   "language": "python",
   "name": "python3"
  },
  "language_info": {
   "codemirror_mode": {
    "name": "ipython",
    "version": 3
   },
   "file_extension": ".py",
   "mimetype": "text/x-python",
   "name": "python",
   "nbconvert_exporter": "python",
   "pygments_lexer": "ipython3",
   "version": "3.8.3"
  }
 },
 "nbformat": 4,
 "nbformat_minor": 4
}
