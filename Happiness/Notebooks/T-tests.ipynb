{
 "cells": [
  {
   "cell_type": "markdown",
   "metadata": {},
   "source": [
    "# T-tests"
   ]
  },
  {
   "cell_type": "markdown",
   "metadata": {},
   "source": [
    "Hypothesis: Average happiness in 2020 vs. average happiness in 2015.\n",
    "    Null Hypothesis: No. There is no change over time.\n",
    "    Alternative Hypothesis: Yes. There is a change in happiness over time."
   ]
  },
  {
   "cell_type": "code",
   "execution_count": 1,
   "metadata": {},
   "outputs": [],
   "source": [
    "import pandas as pd\n",
    "import numpy as no\n",
    "import scipy.stats as stats\n",
    "import matplotlib.pyplot as plt"
   ]
  },
  {
   "cell_type": "code",
   "execution_count": 2,
   "metadata": {},
   "outputs": [
    {
     "data": {
      "text/html": [
       "<div>\n",
       "<style scoped>\n",
       "    .dataframe tbody tr th:only-of-type {\n",
       "        vertical-align: middle;\n",
       "    }\n",
       "\n",
       "    .dataframe tbody tr th {\n",
       "        vertical-align: top;\n",
       "    }\n",
       "\n",
       "    .dataframe thead th {\n",
       "        text-align: right;\n",
       "    }\n",
       "</style>\n",
       "<table border=\"1\" class=\"dataframe\">\n",
       "  <thead>\n",
       "    <tr style=\"text-align: right;\">\n",
       "      <th></th>\n",
       "      <th>Country</th>\n",
       "      <th>Happiness Rank</th>\n",
       "      <th>Happiness Score</th>\n",
       "      <th>Economy (GDP per Capita)</th>\n",
       "      <th>Social Support</th>\n",
       "      <th>Health Life Expectancy</th>\n",
       "      <th>Freedom</th>\n",
       "      <th>Trust (Government Corruption)</th>\n",
       "      <th>Generosity</th>\n",
       "      <th>Year</th>\n",
       "    </tr>\n",
       "  </thead>\n",
       "  <tbody>\n",
       "    <tr>\n",
       "      <th>0</th>\n",
       "      <td>Switzerland</td>\n",
       "      <td>1</td>\n",
       "      <td>7.587</td>\n",
       "      <td>1.39651</td>\n",
       "      <td>1.34951</td>\n",
       "      <td>0.94143</td>\n",
       "      <td>0.66557</td>\n",
       "      <td>0.41978</td>\n",
       "      <td>0.29678</td>\n",
       "      <td>2015</td>\n",
       "    </tr>\n",
       "    <tr>\n",
       "      <th>1</th>\n",
       "      <td>Iceland</td>\n",
       "      <td>2</td>\n",
       "      <td>7.561</td>\n",
       "      <td>1.30232</td>\n",
       "      <td>1.40223</td>\n",
       "      <td>0.94784</td>\n",
       "      <td>0.62877</td>\n",
       "      <td>0.14145</td>\n",
       "      <td>0.43630</td>\n",
       "      <td>2015</td>\n",
       "    </tr>\n",
       "    <tr>\n",
       "      <th>2</th>\n",
       "      <td>Denmark</td>\n",
       "      <td>3</td>\n",
       "      <td>7.527</td>\n",
       "      <td>1.32548</td>\n",
       "      <td>1.36058</td>\n",
       "      <td>0.87464</td>\n",
       "      <td>0.64938</td>\n",
       "      <td>0.48357</td>\n",
       "      <td>0.34139</td>\n",
       "      <td>2015</td>\n",
       "    </tr>\n",
       "    <tr>\n",
       "      <th>3</th>\n",
       "      <td>Norway</td>\n",
       "      <td>4</td>\n",
       "      <td>7.522</td>\n",
       "      <td>1.45900</td>\n",
       "      <td>1.33095</td>\n",
       "      <td>0.88521</td>\n",
       "      <td>0.66973</td>\n",
       "      <td>0.36503</td>\n",
       "      <td>0.34699</td>\n",
       "      <td>2015</td>\n",
       "    </tr>\n",
       "    <tr>\n",
       "      <th>4</th>\n",
       "      <td>Canada</td>\n",
       "      <td>5</td>\n",
       "      <td>7.427</td>\n",
       "      <td>1.32629</td>\n",
       "      <td>1.32261</td>\n",
       "      <td>0.90563</td>\n",
       "      <td>0.63297</td>\n",
       "      <td>0.32957</td>\n",
       "      <td>0.45811</td>\n",
       "      <td>2015</td>\n",
       "    </tr>\n",
       "  </tbody>\n",
       "</table>\n",
       "</div>"
      ],
      "text/plain": [
       "       Country  Happiness Rank  Happiness Score  Economy (GDP per Capita)  \\\n",
       "0  Switzerland               1            7.587                   1.39651   \n",
       "1      Iceland               2            7.561                   1.30232   \n",
       "2      Denmark               3            7.527                   1.32548   \n",
       "3       Norway               4            7.522                   1.45900   \n",
       "4       Canada               5            7.427                   1.32629   \n",
       "\n",
       "   Social Support  Health Life Expectancy  Freedom  \\\n",
       "0         1.34951                 0.94143  0.66557   \n",
       "1         1.40223                 0.94784  0.62877   \n",
       "2         1.36058                 0.87464  0.64938   \n",
       "3         1.33095                 0.88521  0.66973   \n",
       "4         1.32261                 0.90563  0.63297   \n",
       "\n",
       "   Trust (Government Corruption)  Generosity  Year  \n",
       "0                        0.41978     0.29678  2015  \n",
       "1                        0.14145     0.43630  2015  \n",
       "2                        0.48357     0.34139  2015  \n",
       "3                        0.36503     0.34699  2015  \n",
       "4                        0.32957     0.45811  2015  "
      ]
     },
     "execution_count": 2,
     "metadata": {},
     "output_type": "execute_result"
    }
   ],
   "source": [
    "filepath = \"../Resources/Vertical_Merge.csv\"\n",
    "df = pd.read_csv(filepath)\n",
    "df.head()"
   ]
  },
  {
   "cell_type": "code",
   "execution_count": 3,
   "metadata": {},
   "outputs": [
    {
     "data": {
      "text/html": [
       "<div>\n",
       "<style scoped>\n",
       "    .dataframe tbody tr th:only-of-type {\n",
       "        vertical-align: middle;\n",
       "    }\n",
       "\n",
       "    .dataframe tbody tr th {\n",
       "        vertical-align: top;\n",
       "    }\n",
       "\n",
       "    .dataframe thead th {\n",
       "        text-align: right;\n",
       "    }\n",
       "</style>\n",
       "<table border=\"1\" class=\"dataframe\">\n",
       "  <thead>\n",
       "    <tr style=\"text-align: right;\">\n",
       "      <th></th>\n",
       "      <th>Country</th>\n",
       "      <th>Happiness Rank</th>\n",
       "      <th>Happiness Score</th>\n",
       "      <th>Economy (GDP per Capita)</th>\n",
       "      <th>Social Support</th>\n",
       "      <th>Health Life Expectancy</th>\n",
       "      <th>Freedom</th>\n",
       "      <th>Trust (Government Corruption)</th>\n",
       "      <th>Generosity</th>\n",
       "      <th>Year</th>\n",
       "    </tr>\n",
       "  </thead>\n",
       "  <tbody>\n",
       "    <tr>\n",
       "      <th>0</th>\n",
       "      <td>Switzerland</td>\n",
       "      <td>1</td>\n",
       "      <td>7.587</td>\n",
       "      <td>1.39651</td>\n",
       "      <td>1.34951</td>\n",
       "      <td>0.94143</td>\n",
       "      <td>0.66557</td>\n",
       "      <td>0.41978</td>\n",
       "      <td>0.29678</td>\n",
       "      <td>2015</td>\n",
       "    </tr>\n",
       "    <tr>\n",
       "      <th>1</th>\n",
       "      <td>Iceland</td>\n",
       "      <td>2</td>\n",
       "      <td>7.561</td>\n",
       "      <td>1.30232</td>\n",
       "      <td>1.40223</td>\n",
       "      <td>0.94784</td>\n",
       "      <td>0.62877</td>\n",
       "      <td>0.14145</td>\n",
       "      <td>0.43630</td>\n",
       "      <td>2015</td>\n",
       "    </tr>\n",
       "    <tr>\n",
       "      <th>2</th>\n",
       "      <td>Denmark</td>\n",
       "      <td>3</td>\n",
       "      <td>7.527</td>\n",
       "      <td>1.32548</td>\n",
       "      <td>1.36058</td>\n",
       "      <td>0.87464</td>\n",
       "      <td>0.64938</td>\n",
       "      <td>0.48357</td>\n",
       "      <td>0.34139</td>\n",
       "      <td>2015</td>\n",
       "    </tr>\n",
       "    <tr>\n",
       "      <th>3</th>\n",
       "      <td>Norway</td>\n",
       "      <td>4</td>\n",
       "      <td>7.522</td>\n",
       "      <td>1.45900</td>\n",
       "      <td>1.33095</td>\n",
       "      <td>0.88521</td>\n",
       "      <td>0.66973</td>\n",
       "      <td>0.36503</td>\n",
       "      <td>0.34699</td>\n",
       "      <td>2015</td>\n",
       "    </tr>\n",
       "    <tr>\n",
       "      <th>4</th>\n",
       "      <td>Canada</td>\n",
       "      <td>5</td>\n",
       "      <td>7.427</td>\n",
       "      <td>1.32629</td>\n",
       "      <td>1.32261</td>\n",
       "      <td>0.90563</td>\n",
       "      <td>0.63297</td>\n",
       "      <td>0.32957</td>\n",
       "      <td>0.45811</td>\n",
       "      <td>2015</td>\n",
       "    </tr>\n",
       "    <tr>\n",
       "      <th>5</th>\n",
       "      <td>Finland</td>\n",
       "      <td>6</td>\n",
       "      <td>7.406</td>\n",
       "      <td>1.29025</td>\n",
       "      <td>1.31826</td>\n",
       "      <td>0.88911</td>\n",
       "      <td>0.64169</td>\n",
       "      <td>0.41372</td>\n",
       "      <td>0.23351</td>\n",
       "      <td>2015</td>\n",
       "    </tr>\n",
       "    <tr>\n",
       "      <th>6</th>\n",
       "      <td>Netherlands</td>\n",
       "      <td>7</td>\n",
       "      <td>7.378</td>\n",
       "      <td>1.32944</td>\n",
       "      <td>1.28017</td>\n",
       "      <td>0.89284</td>\n",
       "      <td>0.61576</td>\n",
       "      <td>0.31814</td>\n",
       "      <td>0.47610</td>\n",
       "      <td>2015</td>\n",
       "    </tr>\n",
       "    <tr>\n",
       "      <th>7</th>\n",
       "      <td>Sweden</td>\n",
       "      <td>8</td>\n",
       "      <td>7.364</td>\n",
       "      <td>1.33171</td>\n",
       "      <td>1.28907</td>\n",
       "      <td>0.91087</td>\n",
       "      <td>0.65980</td>\n",
       "      <td>0.43844</td>\n",
       "      <td>0.36262</td>\n",
       "      <td>2015</td>\n",
       "    </tr>\n",
       "    <tr>\n",
       "      <th>8</th>\n",
       "      <td>New Zealand</td>\n",
       "      <td>9</td>\n",
       "      <td>7.286</td>\n",
       "      <td>1.25018</td>\n",
       "      <td>1.31967</td>\n",
       "      <td>0.90837</td>\n",
       "      <td>0.63938</td>\n",
       "      <td>0.42922</td>\n",
       "      <td>0.47501</td>\n",
       "      <td>2015</td>\n",
       "    </tr>\n",
       "    <tr>\n",
       "      <th>9</th>\n",
       "      <td>Australia</td>\n",
       "      <td>10</td>\n",
       "      <td>7.284</td>\n",
       "      <td>1.33358</td>\n",
       "      <td>1.30923</td>\n",
       "      <td>0.93156</td>\n",
       "      <td>0.65124</td>\n",
       "      <td>0.35637</td>\n",
       "      <td>0.43562</td>\n",
       "      <td>2015</td>\n",
       "    </tr>\n",
       "  </tbody>\n",
       "</table>\n",
       "</div>"
      ],
      "text/plain": [
       "       Country  Happiness Rank  Happiness Score  Economy (GDP per Capita)  \\\n",
       "0  Switzerland               1            7.587                   1.39651   \n",
       "1      Iceland               2            7.561                   1.30232   \n",
       "2      Denmark               3            7.527                   1.32548   \n",
       "3       Norway               4            7.522                   1.45900   \n",
       "4       Canada               5            7.427                   1.32629   \n",
       "5      Finland               6            7.406                   1.29025   \n",
       "6  Netherlands               7            7.378                   1.32944   \n",
       "7       Sweden               8            7.364                   1.33171   \n",
       "8  New Zealand               9            7.286                   1.25018   \n",
       "9    Australia              10            7.284                   1.33358   \n",
       "\n",
       "   Social Support  Health Life Expectancy  Freedom  \\\n",
       "0         1.34951                 0.94143  0.66557   \n",
       "1         1.40223                 0.94784  0.62877   \n",
       "2         1.36058                 0.87464  0.64938   \n",
       "3         1.33095                 0.88521  0.66973   \n",
       "4         1.32261                 0.90563  0.63297   \n",
       "5         1.31826                 0.88911  0.64169   \n",
       "6         1.28017                 0.89284  0.61576   \n",
       "7         1.28907                 0.91087  0.65980   \n",
       "8         1.31967                 0.90837  0.63938   \n",
       "9         1.30923                 0.93156  0.65124   \n",
       "\n",
       "   Trust (Government Corruption)  Generosity  Year  \n",
       "0                        0.41978     0.29678  2015  \n",
       "1                        0.14145     0.43630  2015  \n",
       "2                        0.48357     0.34139  2015  \n",
       "3                        0.36503     0.34699  2015  \n",
       "4                        0.32957     0.45811  2015  \n",
       "5                        0.41372     0.23351  2015  \n",
       "6                        0.31814     0.47610  2015  \n",
       "7                        0.43844     0.36262  2015  \n",
       "8                        0.42922     0.47501  2015  \n",
       "9                        0.35637     0.43562  2015  "
      ]
     },
     "execution_count": 3,
     "metadata": {},
     "output_type": "execute_result"
    }
   ],
   "source": [
    "mask = (df[\"Happiness Rank\"]<=10) & (df[\"Year\"]==2015)\n",
    "df_high_2015 = df.loc[mask].reset_index(drop=True)\n",
    "\n",
    "df_high_2015"
   ]
  },
  {
   "cell_type": "code",
   "execution_count": 4,
   "metadata": {},
   "outputs": [
    {
     "data": {
      "text/html": [
       "<div>\n",
       "<style scoped>\n",
       "    .dataframe tbody tr th:only-of-type {\n",
       "        vertical-align: middle;\n",
       "    }\n",
       "\n",
       "    .dataframe tbody tr th {\n",
       "        vertical-align: top;\n",
       "    }\n",
       "\n",
       "    .dataframe thead th {\n",
       "        text-align: right;\n",
       "    }\n",
       "</style>\n",
       "<table border=\"1\" class=\"dataframe\">\n",
       "  <thead>\n",
       "    <tr style=\"text-align: right;\">\n",
       "      <th></th>\n",
       "      <th>Country</th>\n",
       "      <th>Happiness Rank</th>\n",
       "      <th>Happiness Score</th>\n",
       "      <th>Economy (GDP per Capita)</th>\n",
       "      <th>Social Support</th>\n",
       "      <th>Health Life Expectancy</th>\n",
       "      <th>Freedom</th>\n",
       "      <th>Trust (Government Corruption)</th>\n",
       "      <th>Generosity</th>\n",
       "      <th>Year</th>\n",
       "    </tr>\n",
       "  </thead>\n",
       "  <tbody>\n",
       "    <tr>\n",
       "      <th>0</th>\n",
       "      <td>Finland</td>\n",
       "      <td>1</td>\n",
       "      <td>7.8087</td>\n",
       "      <td>1.063927</td>\n",
       "      <td>0.954330</td>\n",
       "      <td>0.719008</td>\n",
       "      <td>0.949172</td>\n",
       "      <td>0.195445</td>\n",
       "      <td>-0.059482</td>\n",
       "      <td>2020</td>\n",
       "    </tr>\n",
       "    <tr>\n",
       "      <th>1</th>\n",
       "      <td>Denmark</td>\n",
       "      <td>2</td>\n",
       "      <td>7.6456</td>\n",
       "      <td>1.077400</td>\n",
       "      <td>0.955991</td>\n",
       "      <td>0.724025</td>\n",
       "      <td>0.951444</td>\n",
       "      <td>0.168489</td>\n",
       "      <td>0.066202</td>\n",
       "      <td>2020</td>\n",
       "    </tr>\n",
       "    <tr>\n",
       "      <th>2</th>\n",
       "      <td>Switzerland</td>\n",
       "      <td>3</td>\n",
       "      <td>7.5599</td>\n",
       "      <td>1.097993</td>\n",
       "      <td>0.942847</td>\n",
       "      <td>0.741024</td>\n",
       "      <td>0.921337</td>\n",
       "      <td>0.303728</td>\n",
       "      <td>0.105911</td>\n",
       "      <td>2020</td>\n",
       "    </tr>\n",
       "    <tr>\n",
       "      <th>3</th>\n",
       "      <td>Iceland</td>\n",
       "      <td>4</td>\n",
       "      <td>7.5045</td>\n",
       "      <td>1.077256</td>\n",
       "      <td>0.974670</td>\n",
       "      <td>0.730000</td>\n",
       "      <td>0.948892</td>\n",
       "      <td>0.711710</td>\n",
       "      <td>0.246944</td>\n",
       "      <td>2020</td>\n",
       "    </tr>\n",
       "    <tr>\n",
       "      <th>4</th>\n",
       "      <td>Norway</td>\n",
       "      <td>5</td>\n",
       "      <td>7.4880</td>\n",
       "      <td>1.108780</td>\n",
       "      <td>0.952487</td>\n",
       "      <td>0.732008</td>\n",
       "      <td>0.955750</td>\n",
       "      <td>0.263218</td>\n",
       "      <td>0.134533</td>\n",
       "      <td>2020</td>\n",
       "    </tr>\n",
       "    <tr>\n",
       "      <th>5</th>\n",
       "      <td>Netherlands</td>\n",
       "      <td>6</td>\n",
       "      <td>7.4489</td>\n",
       "      <td>1.081271</td>\n",
       "      <td>0.939139</td>\n",
       "      <td>0.723009</td>\n",
       "      <td>0.908548</td>\n",
       "      <td>0.364717</td>\n",
       "      <td>0.207612</td>\n",
       "      <td>2020</td>\n",
       "    </tr>\n",
       "    <tr>\n",
       "      <th>6</th>\n",
       "      <td>Sweden</td>\n",
       "      <td>7</td>\n",
       "      <td>7.3535</td>\n",
       "      <td>1.075879</td>\n",
       "      <td>0.926311</td>\n",
       "      <td>0.726008</td>\n",
       "      <td>0.939144</td>\n",
       "      <td>0.250880</td>\n",
       "      <td>0.111615</td>\n",
       "      <td>2020</td>\n",
       "    </tr>\n",
       "    <tr>\n",
       "      <th>7</th>\n",
       "      <td>New Zealand</td>\n",
       "      <td>8</td>\n",
       "      <td>7.2996</td>\n",
       "      <td>1.050094</td>\n",
       "      <td>0.949119</td>\n",
       "      <td>0.732026</td>\n",
       "      <td>0.936217</td>\n",
       "      <td>0.221139</td>\n",
       "      <td>0.191598</td>\n",
       "      <td>2020</td>\n",
       "    </tr>\n",
       "    <tr>\n",
       "      <th>8</th>\n",
       "      <td>Austria</td>\n",
       "      <td>9</td>\n",
       "      <td>7.2942</td>\n",
       "      <td>1.074282</td>\n",
       "      <td>0.928046</td>\n",
       "      <td>0.730025</td>\n",
       "      <td>0.899989</td>\n",
       "      <td>0.499955</td>\n",
       "      <td>0.085429</td>\n",
       "      <td>2020</td>\n",
       "    </tr>\n",
       "    <tr>\n",
       "      <th>9</th>\n",
       "      <td>Luxembourg</td>\n",
       "      <td>10</td>\n",
       "      <td>7.2375</td>\n",
       "      <td>1.145068</td>\n",
       "      <td>0.906912</td>\n",
       "      <td>0.726000</td>\n",
       "      <td>0.905636</td>\n",
       "      <td>0.367084</td>\n",
       "      <td>-0.004621</td>\n",
       "      <td>2020</td>\n",
       "    </tr>\n",
       "  </tbody>\n",
       "</table>\n",
       "</div>"
      ],
      "text/plain": [
       "       Country  Happiness Rank  Happiness Score  Economy (GDP per Capita)  \\\n",
       "0      Finland               1           7.8087                  1.063927   \n",
       "1      Denmark               2           7.6456                  1.077400   \n",
       "2  Switzerland               3           7.5599                  1.097993   \n",
       "3      Iceland               4           7.5045                  1.077256   \n",
       "4       Norway               5           7.4880                  1.108780   \n",
       "5  Netherlands               6           7.4489                  1.081271   \n",
       "6       Sweden               7           7.3535                  1.075879   \n",
       "7  New Zealand               8           7.2996                  1.050094   \n",
       "8      Austria               9           7.2942                  1.074282   \n",
       "9   Luxembourg              10           7.2375                  1.145068   \n",
       "\n",
       "   Social Support  Health Life Expectancy   Freedom  \\\n",
       "0        0.954330                0.719008  0.949172   \n",
       "1        0.955991                0.724025  0.951444   \n",
       "2        0.942847                0.741024  0.921337   \n",
       "3        0.974670                0.730000  0.948892   \n",
       "4        0.952487                0.732008  0.955750   \n",
       "5        0.939139                0.723009  0.908548   \n",
       "6        0.926311                0.726008  0.939144   \n",
       "7        0.949119                0.732026  0.936217   \n",
       "8        0.928046                0.730025  0.899989   \n",
       "9        0.906912                0.726000  0.905636   \n",
       "\n",
       "   Trust (Government Corruption)  Generosity  Year  \n",
       "0                       0.195445   -0.059482  2020  \n",
       "1                       0.168489    0.066202  2020  \n",
       "2                       0.303728    0.105911  2020  \n",
       "3                       0.711710    0.246944  2020  \n",
       "4                       0.263218    0.134533  2020  \n",
       "5                       0.364717    0.207612  2020  \n",
       "6                       0.250880    0.111615  2020  \n",
       "7                       0.221139    0.191598  2020  \n",
       "8                       0.499955    0.085429  2020  \n",
       "9                       0.367084   -0.004621  2020  "
      ]
     },
     "execution_count": 4,
     "metadata": {},
     "output_type": "execute_result"
    }
   ],
   "source": [
    "mask2 = (df[\"Happiness Rank\"]<=10) & (df[\"Year\"]==2020)\n",
    "df_high_2020 = df.loc[mask2].reset_index(drop=True)\n",
    "\n",
    "df_high_2020"
   ]
  },
  {
   "cell_type": "code",
   "execution_count": 5,
   "metadata": {},
   "outputs": [
    {
     "data": {
      "text/plain": [
       "7.4640399933"
      ]
     },
     "execution_count": 5,
     "metadata": {},
     "output_type": "execute_result"
    }
   ],
   "source": [
    "happiness_mean_2020 = df_high_2020[\"Happiness Score\"].mean()\n",
    "happiness_mean_2020"
   ]
  },
  {
   "cell_type": "code",
   "execution_count": 6,
   "metadata": {},
   "outputs": [
    {
     "data": {
      "text/plain": [
       "7.4342"
      ]
     },
     "execution_count": 6,
     "metadata": {},
     "output_type": "execute_result"
    }
   ],
   "source": [
    "happiness_mean_2015 = df_high_2015[\"Happiness Score\"].mean()\n",
    "happiness_mean_2015"
   ]
  },
  {
   "cell_type": "markdown",
   "metadata": {},
   "source": [
    "# T-test Happiness Score High 2015 vs. 2020"
   ]
  },
  {
   "cell_type": "code",
   "execution_count": 7,
   "metadata": {},
   "outputs": [
    {
     "data": {
      "text/plain": [
       "Ttest_indResult(statistic=-0.45213664193404385, pvalue=0.657619517154341)"
      ]
     },
     "execution_count": 7,
     "metadata": {},
     "output_type": "execute_result"
    }
   ],
   "source": [
    "stats.ttest_ind(df_high_2015[\"Happiness Score\"], df_high_2020[\"Happiness Score\"], equal_var = False)"
   ]
  },
  {
   "cell_type": "markdown",
   "metadata": {},
   "source": [
    "Score 2015 vs. 2020 P-value > 0.05. Accept the null hypothesis and reject the alternative hypothesis. There is not a significant change in Happiness Score over time. "
   ]
  },
  {
   "cell_type": "code",
   "execution_count": 8,
   "metadata": {},
   "outputs": [
    {
     "data": {
      "text/html": [
       "<div>\n",
       "<style scoped>\n",
       "    .dataframe tbody tr th:only-of-type {\n",
       "        vertical-align: middle;\n",
       "    }\n",
       "\n",
       "    .dataframe tbody tr th {\n",
       "        vertical-align: top;\n",
       "    }\n",
       "\n",
       "    .dataframe thead th {\n",
       "        text-align: right;\n",
       "    }\n",
       "</style>\n",
       "<table border=\"1\" class=\"dataframe\">\n",
       "  <thead>\n",
       "    <tr style=\"text-align: right;\">\n",
       "      <th></th>\n",
       "      <th>Country</th>\n",
       "      <th>Happiness Rank</th>\n",
       "      <th>Happiness Score</th>\n",
       "      <th>Economy (GDP per Capita)</th>\n",
       "      <th>Social Support</th>\n",
       "      <th>Health Life Expectancy</th>\n",
       "      <th>Freedom</th>\n",
       "      <th>Trust (Government Corruption)</th>\n",
       "      <th>Generosity</th>\n",
       "      <th>Year</th>\n",
       "    </tr>\n",
       "  </thead>\n",
       "  <tbody>\n",
       "    <tr>\n",
       "      <th>0</th>\n",
       "      <td>Central African Republic</td>\n",
       "      <td>148</td>\n",
       "      <td>3.678</td>\n",
       "      <td>0.07850</td>\n",
       "      <td>0.00000</td>\n",
       "      <td>0.06699</td>\n",
       "      <td>0.48879</td>\n",
       "      <td>0.08289</td>\n",
       "      <td>0.23835</td>\n",
       "      <td>2015</td>\n",
       "    </tr>\n",
       "    <tr>\n",
       "      <th>1</th>\n",
       "      <td>Chad</td>\n",
       "      <td>149</td>\n",
       "      <td>3.667</td>\n",
       "      <td>0.34193</td>\n",
       "      <td>0.76062</td>\n",
       "      <td>0.15010</td>\n",
       "      <td>0.23501</td>\n",
       "      <td>0.05269</td>\n",
       "      <td>0.18386</td>\n",
       "      <td>2015</td>\n",
       "    </tr>\n",
       "    <tr>\n",
       "      <th>2</th>\n",
       "      <td>Guinea</td>\n",
       "      <td>150</td>\n",
       "      <td>3.656</td>\n",
       "      <td>0.17417</td>\n",
       "      <td>0.46475</td>\n",
       "      <td>0.24009</td>\n",
       "      <td>0.37725</td>\n",
       "      <td>0.12139</td>\n",
       "      <td>0.28657</td>\n",
       "      <td>2015</td>\n",
       "    </tr>\n",
       "    <tr>\n",
       "      <th>3</th>\n",
       "      <td>Ivory Coast</td>\n",
       "      <td>151</td>\n",
       "      <td>3.655</td>\n",
       "      <td>0.46534</td>\n",
       "      <td>0.77115</td>\n",
       "      <td>0.15185</td>\n",
       "      <td>0.46866</td>\n",
       "      <td>0.17922</td>\n",
       "      <td>0.20165</td>\n",
       "      <td>2015</td>\n",
       "    </tr>\n",
       "    <tr>\n",
       "      <th>4</th>\n",
       "      <td>Burkina Faso</td>\n",
       "      <td>152</td>\n",
       "      <td>3.587</td>\n",
       "      <td>0.25812</td>\n",
       "      <td>0.85188</td>\n",
       "      <td>0.27125</td>\n",
       "      <td>0.39493</td>\n",
       "      <td>0.12832</td>\n",
       "      <td>0.21747</td>\n",
       "      <td>2015</td>\n",
       "    </tr>\n",
       "    <tr>\n",
       "      <th>5</th>\n",
       "      <td>Afghanistan</td>\n",
       "      <td>153</td>\n",
       "      <td>3.575</td>\n",
       "      <td>0.31982</td>\n",
       "      <td>0.30285</td>\n",
       "      <td>0.30335</td>\n",
       "      <td>0.23414</td>\n",
       "      <td>0.09719</td>\n",
       "      <td>0.36510</td>\n",
       "      <td>2015</td>\n",
       "    </tr>\n",
       "    <tr>\n",
       "      <th>6</th>\n",
       "      <td>Rwanda</td>\n",
       "      <td>154</td>\n",
       "      <td>3.465</td>\n",
       "      <td>0.22208</td>\n",
       "      <td>0.77370</td>\n",
       "      <td>0.42864</td>\n",
       "      <td>0.59201</td>\n",
       "      <td>0.55191</td>\n",
       "      <td>0.22628</td>\n",
       "      <td>2015</td>\n",
       "    </tr>\n",
       "    <tr>\n",
       "      <th>7</th>\n",
       "      <td>Benin</td>\n",
       "      <td>155</td>\n",
       "      <td>3.340</td>\n",
       "      <td>0.28665</td>\n",
       "      <td>0.35386</td>\n",
       "      <td>0.31910</td>\n",
       "      <td>0.48450</td>\n",
       "      <td>0.08010</td>\n",
       "      <td>0.18260</td>\n",
       "      <td>2015</td>\n",
       "    </tr>\n",
       "    <tr>\n",
       "      <th>8</th>\n",
       "      <td>Syria</td>\n",
       "      <td>156</td>\n",
       "      <td>3.006</td>\n",
       "      <td>0.66320</td>\n",
       "      <td>0.47489</td>\n",
       "      <td>0.72193</td>\n",
       "      <td>0.15684</td>\n",
       "      <td>0.18906</td>\n",
       "      <td>0.47179</td>\n",
       "      <td>2015</td>\n",
       "    </tr>\n",
       "    <tr>\n",
       "      <th>9</th>\n",
       "      <td>Burundi</td>\n",
       "      <td>157</td>\n",
       "      <td>2.905</td>\n",
       "      <td>0.01530</td>\n",
       "      <td>0.41587</td>\n",
       "      <td>0.22396</td>\n",
       "      <td>0.11850</td>\n",
       "      <td>0.10062</td>\n",
       "      <td>0.19727</td>\n",
       "      <td>2015</td>\n",
       "    </tr>\n",
       "    <tr>\n",
       "      <th>10</th>\n",
       "      <td>Togo</td>\n",
       "      <td>158</td>\n",
       "      <td>2.839</td>\n",
       "      <td>0.20868</td>\n",
       "      <td>0.13995</td>\n",
       "      <td>0.28443</td>\n",
       "      <td>0.36453</td>\n",
       "      <td>0.10731</td>\n",
       "      <td>0.16681</td>\n",
       "      <td>2015</td>\n",
       "    </tr>\n",
       "  </tbody>\n",
       "</table>\n",
       "</div>"
      ],
      "text/plain": [
       "                     Country  Happiness Rank  Happiness Score  \\\n",
       "0   Central African Republic             148            3.678   \n",
       "1                       Chad             149            3.667   \n",
       "2                     Guinea             150            3.656   \n",
       "3                Ivory Coast             151            3.655   \n",
       "4               Burkina Faso             152            3.587   \n",
       "5                Afghanistan             153            3.575   \n",
       "6                     Rwanda             154            3.465   \n",
       "7                      Benin             155            3.340   \n",
       "8                      Syria             156            3.006   \n",
       "9                    Burundi             157            2.905   \n",
       "10                      Togo             158            2.839   \n",
       "\n",
       "    Economy (GDP per Capita)  Social Support  Health Life Expectancy  Freedom  \\\n",
       "0                    0.07850         0.00000                 0.06699  0.48879   \n",
       "1                    0.34193         0.76062                 0.15010  0.23501   \n",
       "2                    0.17417         0.46475                 0.24009  0.37725   \n",
       "3                    0.46534         0.77115                 0.15185  0.46866   \n",
       "4                    0.25812         0.85188                 0.27125  0.39493   \n",
       "5                    0.31982         0.30285                 0.30335  0.23414   \n",
       "6                    0.22208         0.77370                 0.42864  0.59201   \n",
       "7                    0.28665         0.35386                 0.31910  0.48450   \n",
       "8                    0.66320         0.47489                 0.72193  0.15684   \n",
       "9                    0.01530         0.41587                 0.22396  0.11850   \n",
       "10                   0.20868         0.13995                 0.28443  0.36453   \n",
       "\n",
       "    Trust (Government Corruption)  Generosity  Year  \n",
       "0                         0.08289     0.23835  2015  \n",
       "1                         0.05269     0.18386  2015  \n",
       "2                         0.12139     0.28657  2015  \n",
       "3                         0.17922     0.20165  2015  \n",
       "4                         0.12832     0.21747  2015  \n",
       "5                         0.09719     0.36510  2015  \n",
       "6                         0.55191     0.22628  2015  \n",
       "7                         0.08010     0.18260  2015  \n",
       "8                         0.18906     0.47179  2015  \n",
       "9                         0.10062     0.19727  2015  \n",
       "10                        0.10731     0.16681  2015  "
      ]
     },
     "execution_count": 8,
     "metadata": {},
     "output_type": "execute_result"
    }
   ],
   "source": [
    "mask3=(df[\"Happiness Rank\"]>=148)&(df[\"Year\"]==2015)\n",
    "df_low_2015=df.loc[mask3].reset_index(drop=True)\n",
    "df_low_2015"
   ]
  },
  {
   "cell_type": "code",
   "execution_count": 9,
   "metadata": {},
   "outputs": [
    {
     "data": {
      "text/html": [
       "<div>\n",
       "<style scoped>\n",
       "    .dataframe tbody tr th:only-of-type {\n",
       "        vertical-align: middle;\n",
       "    }\n",
       "\n",
       "    .dataframe tbody tr th {\n",
       "        vertical-align: top;\n",
       "    }\n",
       "\n",
       "    .dataframe thead th {\n",
       "        text-align: right;\n",
       "    }\n",
       "</style>\n",
       "<table border=\"1\" class=\"dataframe\">\n",
       "  <thead>\n",
       "    <tr style=\"text-align: right;\">\n",
       "      <th></th>\n",
       "      <th>Country</th>\n",
       "      <th>Happiness Rank</th>\n",
       "      <th>Happiness Score</th>\n",
       "      <th>Economy (GDP per Capita)</th>\n",
       "      <th>Social Support</th>\n",
       "      <th>Health Life Expectancy</th>\n",
       "      <th>Freedom</th>\n",
       "      <th>Trust (Government Corruption)</th>\n",
       "      <th>Generosity</th>\n",
       "      <th>Year</th>\n",
       "    </tr>\n",
       "  </thead>\n",
       "  <tbody>\n",
       "    <tr>\n",
       "      <th>0</th>\n",
       "      <td>Lesotho</td>\n",
       "      <td>143</td>\n",
       "      <td>3.6528</td>\n",
       "      <td>0.796049</td>\n",
       "      <td>0.780496</td>\n",
       "      <td>0.480036</td>\n",
       "      <td>0.738126</td>\n",
       "      <td>0.857392</td>\n",
       "      <td>-0.145732</td>\n",
       "      <td>2020</td>\n",
       "    </tr>\n",
       "    <tr>\n",
       "      <th>1</th>\n",
       "      <td>India</td>\n",
       "      <td>144</td>\n",
       "      <td>3.5733</td>\n",
       "      <td>0.884982</td>\n",
       "      <td>0.592201</td>\n",
       "      <td>0.602152</td>\n",
       "      <td>0.881445</td>\n",
       "      <td>0.772043</td>\n",
       "      <td>0.057552</td>\n",
       "      <td>2020</td>\n",
       "    </tr>\n",
       "    <tr>\n",
       "      <th>2</th>\n",
       "      <td>Malawi</td>\n",
       "      <td>145</td>\n",
       "      <td>3.5380</td>\n",
       "      <td>0.706223</td>\n",
       "      <td>0.544007</td>\n",
       "      <td>0.575929</td>\n",
       "      <td>0.803223</td>\n",
       "      <td>0.731701</td>\n",
       "      <td>0.021433</td>\n",
       "      <td>2020</td>\n",
       "    </tr>\n",
       "    <tr>\n",
       "      <th>3</th>\n",
       "      <td>Yemen</td>\n",
       "      <td>146</td>\n",
       "      <td>3.5274</td>\n",
       "      <td>0.775968</td>\n",
       "      <td>0.817981</td>\n",
       "      <td>0.567273</td>\n",
       "      <td>0.599920</td>\n",
       "      <td>0.800288</td>\n",
       "      <td>-0.157735</td>\n",
       "      <td>2020</td>\n",
       "    </tr>\n",
       "    <tr>\n",
       "      <th>4</th>\n",
       "      <td>Botswana</td>\n",
       "      <td>147</td>\n",
       "      <td>3.4789</td>\n",
       "      <td>0.971120</td>\n",
       "      <td>0.779122</td>\n",
       "      <td>0.589245</td>\n",
       "      <td>0.821328</td>\n",
       "      <td>0.777931</td>\n",
       "      <td>-0.250394</td>\n",
       "      <td>2020</td>\n",
       "    </tr>\n",
       "    <tr>\n",
       "      <th>5</th>\n",
       "      <td>Tanzania</td>\n",
       "      <td>148</td>\n",
       "      <td>3.4762</td>\n",
       "      <td>0.796767</td>\n",
       "      <td>0.688933</td>\n",
       "      <td>0.574961</td>\n",
       "      <td>0.821540</td>\n",
       "      <td>0.619799</td>\n",
       "      <td>0.109669</td>\n",
       "      <td>2020</td>\n",
       "    </tr>\n",
       "    <tr>\n",
       "      <th>6</th>\n",
       "      <td>Central African Republic</td>\n",
       "      <td>149</td>\n",
       "      <td>3.4759</td>\n",
       "      <td>0.662516</td>\n",
       "      <td>0.319460</td>\n",
       "      <td>0.452000</td>\n",
       "      <td>0.640881</td>\n",
       "      <td>0.891807</td>\n",
       "      <td>0.082410</td>\n",
       "      <td>2020</td>\n",
       "    </tr>\n",
       "    <tr>\n",
       "      <th>7</th>\n",
       "      <td>Rwanda</td>\n",
       "      <td>150</td>\n",
       "      <td>3.3123</td>\n",
       "      <td>0.760010</td>\n",
       "      <td>0.540835</td>\n",
       "      <td>0.610988</td>\n",
       "      <td>0.900589</td>\n",
       "      <td>0.183541</td>\n",
       "      <td>0.055484</td>\n",
       "      <td>2020</td>\n",
       "    </tr>\n",
       "    <tr>\n",
       "      <th>8</th>\n",
       "      <td>Zimbabwe</td>\n",
       "      <td>151</td>\n",
       "      <td>3.2992</td>\n",
       "      <td>0.786571</td>\n",
       "      <td>0.763093</td>\n",
       "      <td>0.556173</td>\n",
       "      <td>0.711458</td>\n",
       "      <td>0.810237</td>\n",
       "      <td>-0.072064</td>\n",
       "      <td>2020</td>\n",
       "    </tr>\n",
       "    <tr>\n",
       "      <th>9</th>\n",
       "      <td>South Sudan</td>\n",
       "      <td>152</td>\n",
       "      <td>2.8166</td>\n",
       "      <td>0.742536</td>\n",
       "      <td>0.553707</td>\n",
       "      <td>0.510000</td>\n",
       "      <td>0.451314</td>\n",
       "      <td>0.763417</td>\n",
       "      <td>0.016519</td>\n",
       "      <td>2020</td>\n",
       "    </tr>\n",
       "    <tr>\n",
       "      <th>10</th>\n",
       "      <td>Afghanistan</td>\n",
       "      <td>153</td>\n",
       "      <td>2.5669</td>\n",
       "      <td>0.746286</td>\n",
       "      <td>0.470367</td>\n",
       "      <td>0.525900</td>\n",
       "      <td>0.396573</td>\n",
       "      <td>0.933687</td>\n",
       "      <td>-0.096429</td>\n",
       "      <td>2020</td>\n",
       "    </tr>\n",
       "  </tbody>\n",
       "</table>\n",
       "</div>"
      ],
      "text/plain": [
       "                     Country  Happiness Rank  Happiness Score  \\\n",
       "0                    Lesotho             143           3.6528   \n",
       "1                      India             144           3.5733   \n",
       "2                     Malawi             145           3.5380   \n",
       "3                      Yemen             146           3.5274   \n",
       "4                   Botswana             147           3.4789   \n",
       "5                   Tanzania             148           3.4762   \n",
       "6   Central African Republic             149           3.4759   \n",
       "7                     Rwanda             150           3.3123   \n",
       "8                   Zimbabwe             151           3.2992   \n",
       "9                South Sudan             152           2.8166   \n",
       "10               Afghanistan             153           2.5669   \n",
       "\n",
       "    Economy (GDP per Capita)  Social Support  Health Life Expectancy  \\\n",
       "0                   0.796049        0.780496                0.480036   \n",
       "1                   0.884982        0.592201                0.602152   \n",
       "2                   0.706223        0.544007                0.575929   \n",
       "3                   0.775968        0.817981                0.567273   \n",
       "4                   0.971120        0.779122                0.589245   \n",
       "5                   0.796767        0.688933                0.574961   \n",
       "6                   0.662516        0.319460                0.452000   \n",
       "7                   0.760010        0.540835                0.610988   \n",
       "8                   0.786571        0.763093                0.556173   \n",
       "9                   0.742536        0.553707                0.510000   \n",
       "10                  0.746286        0.470367                0.525900   \n",
       "\n",
       "     Freedom  Trust (Government Corruption)  Generosity  Year  \n",
       "0   0.738126                       0.857392   -0.145732  2020  \n",
       "1   0.881445                       0.772043    0.057552  2020  \n",
       "2   0.803223                       0.731701    0.021433  2020  \n",
       "3   0.599920                       0.800288   -0.157735  2020  \n",
       "4   0.821328                       0.777931   -0.250394  2020  \n",
       "5   0.821540                       0.619799    0.109669  2020  \n",
       "6   0.640881                       0.891807    0.082410  2020  \n",
       "7   0.900589                       0.183541    0.055484  2020  \n",
       "8   0.711458                       0.810237   -0.072064  2020  \n",
       "9   0.451314                       0.763417    0.016519  2020  \n",
       "10  0.396573                       0.933687   -0.096429  2020  "
      ]
     },
     "execution_count": 9,
     "metadata": {},
     "output_type": "execute_result"
    }
   ],
   "source": [
    "mask4=(df[\"Happiness Rank\"]>=143)&(df[\"Year\"]==2020)\n",
    "df_low_2020=df.loc[mask4].reset_index(drop=True)\n",
    "df_low_2020"
   ]
  },
  {
   "cell_type": "markdown",
   "metadata": {},
   "source": [
    "## T-test top vs. bottom countries in 2020"
   ]
  },
  {
   "cell_type": "code",
   "execution_count": 10,
   "metadata": {},
   "outputs": [
    {
     "data": {
      "text/plain": [
       "Ttest_indResult(statistic=35.30332537640148, pvalue=4.0812612388392846e-16)"
      ]
     },
     "execution_count": 10,
     "metadata": {},
     "output_type": "execute_result"
    }
   ],
   "source": [
    "stats.ttest_ind(df_high_2020[\"Happiness Score\"], df_low_2020[\"Happiness Score\"], equal_var=False)"
   ]
  },
  {
   "cell_type": "markdown",
   "metadata": {},
   "source": [
    "## T-test Happiness Score Low 2015 vs. 2020"
   ]
  },
  {
   "cell_type": "code",
   "execution_count": 11,
   "metadata": {},
   "outputs": [
    {
     "data": {
      "text/plain": [
       "Ttest_indResult(statistic=0.41905438235317743, pvalue=0.6796499269392906)"
      ]
     },
     "execution_count": 11,
     "metadata": {},
     "output_type": "execute_result"
    }
   ],
   "source": [
    "stats.ttest_ind(df_low_2015[\"Happiness Score\"], df_low_2020[\"Happiness Score\"], equal_var=False)"
   ]
  },
  {
   "cell_type": "markdown",
   "metadata": {},
   "source": [
    "P-value > 0.05; therefore, we accept the null hypothesis and reject the alternative hypothesis. It is not a statistically significant change in Happiness Score amongst the low countries between 2015 and 2020."
   ]
  },
  {
   "cell_type": "markdown",
   "metadata": {},
   "source": [
    "## T-test low 2015 vs. low 2020 \"Economy\""
   ]
  },
  {
   "cell_type": "code",
   "execution_count": 12,
   "metadata": {},
   "outputs": [
    {
     "data": {
      "text/plain": [
       "Ttest_indResult(statistic=-8.57159508077917, pvalue=5.434960909802638e-07)"
      ]
     },
     "execution_count": 12,
     "metadata": {},
     "output_type": "execute_result"
    }
   ],
   "source": [
    "stats.ttest_ind(df_low_2015[\"Economy (GDP per Capita)\"], df_low_2020[\"Economy (GDP per Capita)\"], equal_var=False)"
   ]
  },
  {
   "cell_type": "markdown",
   "metadata": {},
   "source": [
    "P-value < 0.05; therefore, we reject our null and accept our alternative. This is statistically significant. There is a change in the Economy (GDP per Capita) amongst the bottom countries over time."
   ]
  },
  {
   "cell_type": "code",
   "execution_count": 13,
   "metadata": {},
   "outputs": [
    {
     "data": {
      "text/plain": [
       "0.2757990909090909"
      ]
     },
     "execution_count": 13,
     "metadata": {},
     "output_type": "execute_result"
    }
   ],
   "source": [
    "df_low_2015[\"Economy (GDP per Capita)\"].mean()"
   ]
  },
  {
   "cell_type": "code",
   "execution_count": 14,
   "metadata": {},
   "outputs": [
    {
     "data": {
      "text/plain": [
       "0.7844571509090909"
      ]
     },
     "execution_count": 14,
     "metadata": {},
     "output_type": "execute_result"
    }
   ],
   "source": [
    "df_low_2020[\"Economy (GDP per Capita)\"].mean()"
   ]
  },
  {
   "cell_type": "markdown",
   "metadata": {},
   "source": [
    "## T-test top vs. bottom countries of Happiness Score in 2015"
   ]
  },
  {
   "cell_type": "code",
   "execution_count": 15,
   "metadata": {},
   "outputs": [
    {
     "data": {
      "text/plain": [
       "Ttest_indResult(statistic=38.63289992322861, pvalue=2.4671262909346708e-14)"
      ]
     },
     "execution_count": 15,
     "metadata": {},
     "output_type": "execute_result"
    }
   ],
   "source": [
    "stats.ttest_ind(df_high_2015[\"Happiness Score\"], df_low_2015[\"Happiness Score\"], equal_var=False)"
   ]
  },
  {
   "cell_type": "markdown",
   "metadata": {},
   "source": [
    "## T-test top vs. bottom countries of Economy in 2015"
   ]
  },
  {
   "cell_type": "code",
   "execution_count": 16,
   "metadata": {},
   "outputs": [
    {
     "data": {
      "text/plain": [
       "Ttest_indResult(statistic=18.676000717095384, pvalue=2.3049209127751346e-10)"
      ]
     },
     "execution_count": 16,
     "metadata": {},
     "output_type": "execute_result"
    }
   ],
   "source": [
    "stats.ttest_ind(df_high_2015[\"Economy (GDP per Capita)\"], df_low_2015[\"Economy (GDP per Capita)\"], equal_var=False)"
   ]
  },
  {
   "cell_type": "markdown",
   "metadata": {},
   "source": [
    "## T-test high 2015 vs. high 2020 \"Economy\""
   ]
  },
  {
   "cell_type": "code",
   "execution_count": 17,
   "metadata": {},
   "outputs": [
    {
     "data": {
      "text/plain": [
       "Ttest_indResult(statistic=12.469886200302511, pvalue=1.7337953315502605e-08)"
      ]
     },
     "execution_count": 17,
     "metadata": {},
     "output_type": "execute_result"
    }
   ],
   "source": [
    "stats.ttest_ind(df_high_2015[\"Economy (GDP per Capita)\"], df_high_2020[\"Economy (GDP per Capita)\"], equal_var=False)"
   ]
  },
  {
   "cell_type": "markdown",
   "metadata": {},
   "source": [
    "P<0.05; therefore, we can reject the null and accept the alternative hypothesis.  It is a statistically significant change in the Economy (GDP per Capita) of the high counteries between 2015 and 2020."
   ]
  },
  {
   "cell_type": "markdown",
   "metadata": {},
   "source": [
    "# Health Life Expectancy"
   ]
  },
  {
   "cell_type": "code",
   "execution_count": 18,
   "metadata": {},
   "outputs": [
    {
     "data": {
      "text/plain": [
       "Ttest_indResult(statistic=-4.794857750847201, pvalue=0.0004665132957562091)"
      ]
     },
     "execution_count": 18,
     "metadata": {},
     "output_type": "execute_result"
    }
   ],
   "source": [
    "stats.ttest_ind(df_low_2015[\"Health Life Expectancy\"], df_low_2020[\"Health Life Expectancy\"], equal_var=False)"
   ]
  },
  {
   "cell_type": "markdown",
   "metadata": {},
   "source": [
    "P<0.05; therefore, we can reject the null and accept the alternative hypothesis.  It is a statistically significant change in the Health Life Expectancy of the high counteries between 2015 and 2020."
   ]
  },
  {
   "cell_type": "code",
   "execution_count": 19,
   "metadata": {},
   "outputs": [
    {
     "data": {
      "text/plain": [
       "Ttest_indResult(statistic=22.426998009318144, pvalue=5.940976196879174e-10)"
      ]
     },
     "execution_count": 19,
     "metadata": {},
     "output_type": "execute_result"
    }
   ],
   "source": [
    "stats.ttest_ind(df_high_2015[\"Health Life Expectancy\"], df_high_2020[\"Health Life Expectancy\"], equal_var=False)"
   ]
  },
  {
   "cell_type": "markdown",
   "metadata": {},
   "source": [
    "P<0.05; therefore, we can reject the null and accept the alternative hypothesis.  It is a statistically significant change in the Health Life Expectancy of the low counteries between 2015 and 2020."
   ]
  },
  {
   "cell_type": "code",
   "execution_count": null,
   "metadata": {},
   "outputs": [],
   "source": []
  }
 ],
 "metadata": {
  "kernelspec": {
   "display_name": "Python 3",
   "language": "python",
   "name": "python3"
  },
  "language_info": {
   "codemirror_mode": {
    "name": "ipython",
    "version": 3
   },
   "file_extension": ".py",
   "mimetype": "text/x-python",
   "name": "python",
   "nbconvert_exporter": "python",
   "pygments_lexer": "ipython3",
   "version": "3.8.3"
  }
 },
 "nbformat": 4,
 "nbformat_minor": 4
}
