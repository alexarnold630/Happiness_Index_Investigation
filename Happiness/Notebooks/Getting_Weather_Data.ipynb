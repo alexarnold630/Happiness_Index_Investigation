{
 "cells": [
  {
   "cell_type": "code",
   "execution_count": 1,
   "metadata": {},
   "outputs": [
    {
     "ename": "ModuleNotFoundError",
     "evalue": "No module named 'api_keys'",
     "output_type": "error",
     "traceback": [
      "\u001b[0;31m---------------------------------------------------------------------------\u001b[0m",
      "\u001b[0;31mModuleNotFoundError\u001b[0m                       Traceback (most recent call last)",
      "\u001b[0;32m<ipython-input-1-94fb62b9b58d>\u001b[0m in \u001b[0;36m<module>\u001b[0;34m\u001b[0m\n\u001b[1;32m     20\u001b[0m \u001b[0;34m\u001b[0m\u001b[0m\n\u001b[1;32m     21\u001b[0m \u001b[0;31m# Import API key city py\u001b[0m\u001b[0;34m\u001b[0m\u001b[0;34m\u001b[0m\u001b[0;34m\u001b[0m\u001b[0m\n\u001b[0;32m---> 22\u001b[0;31m \u001b[0;32mfrom\u001b[0m \u001b[0mapi_keys\u001b[0m \u001b[0;32mimport\u001b[0m \u001b[0mweather_api_key\u001b[0m\u001b[0;34m\u001b[0m\u001b[0;34m\u001b[0m\u001b[0m\n\u001b[0m\u001b[1;32m     23\u001b[0m \u001b[0;32mfrom\u001b[0m \u001b[0mcitipy\u001b[0m \u001b[0;32mimport\u001b[0m \u001b[0mcitipy\u001b[0m\u001b[0;34m\u001b[0m\u001b[0;34m\u001b[0m\u001b[0m\n\u001b[1;32m     24\u001b[0m \u001b[0;34m\u001b[0m\u001b[0m\n",
      "\u001b[0;31mModuleNotFoundError\u001b[0m: No module named 'api_keys'"
     ]
    }
   ],
   "source": [
    "# Dependencies and Setup\n",
    "\n",
    "# visualizations\n",
    "import matplotlib.pyplot as plt\n",
    "import seaborn as sns\n",
    "\n",
    "#data science - standard library\n",
    "import pandas as pd\n",
    "import numpy as np\n",
    "\n",
    "#requests\n",
    "import requests\n",
    "from pprint import pprint\n",
    "import time\n",
    "\n",
    "#regression\n",
    "from scipy.stats import linregress\n",
    "import statsmodels.api as sm\n",
    "from sklearn.linear_model import LinearRegression\n",
    "\n",
    "# Import API key city py \n",
    "from api_keys import weather_api_key\n",
    "from citipy import citipy\n",
    "\n",
    "output_data_file = \"../Resources/2020_WeaterDataIncluded.csv\"\n",
    "file_path = \"../Resources/Vertical_Merge_LatLng.csv\""
   ]
  },
  {
   "cell_type": "code",
   "execution_count": null,
   "metadata": {},
   "outputs": [],
   "source": [
    "print(weather_api_key)"
   ]
  },
  {
   "cell_type": "code",
   "execution_count": null,
   "metadata": {},
   "outputs": [],
   "source": [
    "df = pd.read_csv(file_path)"
   ]
  },
  {
   "cell_type": "code",
   "execution_count": null,
   "metadata": {},
   "outputs": [],
   "source": [
    "df.head()"
   ]
  },
  {
   "cell_type": "code",
   "execution_count": null,
   "metadata": {},
   "outputs": [],
   "source": [
    "lat_lngs = []\n",
    "cities = []\n",
    "\n",
    "lats = df[\"Latitude\"]\n",
    "lngs = df[\"Longitude\"]\n",
    "lat_lngs = zip(lats, lngs)\n",
    "for lat_lng in lat_lngs:\n",
    "    city = citipy.nearest_city(lat_lng[0], lat_lng[1]).city_name\n",
    "    \n",
    "    # If the city is unique, then add it to a our cities list\n",
    "    if city not in cities:\n",
    "        cities.append(city)\n",
    "\n",
    "len(cities)"
   ]
  },
  {
   "cell_type": "code",
   "execution_count": null,
   "metadata": {},
   "outputs": [],
   "source": [
    "\n",
    "temps = []\n",
    "feel_likes = []\n",
    "humids = []\n",
    "pressures = []\n",
    "speeds = []\n",
    "cloudiness = []\n",
    "cities_found = []\n",
    "\n",
    "for i in range(len(cities)):\n",
    "    #get the city\n",
    "    city = cities[i]\n",
    "    \n",
    "    #create the url\n",
    "    units = \"imperial\"\n",
    "    url = f\"http://api.openweathermap.org/data/2.5/weather?q={city}&units={units}&appid={weather_api_key}\"\n",
    "#     print(url)\n",
    "\n",
    "    #make the request\n",
    "    response = requests.get(url)\n",
    "#     print(response.status_code)\n",
    "    \n",
    "    #error check\n",
    "    if response.status_code == 200:\n",
    "        data = response.json()\n",
    "#         pprint(data)\n",
    "        \n",
    "        try:\n",
    "            #extract the data\n",
    "            temp = data[\"main\"][\"temp\"]\n",
    "            feels_like = data[\"main\"][\"feels_like\"]\n",
    "            humidity = data[\"main\"][\"humidity\"]\n",
    "            pressure = data[\"main\"][\"pressure\"]\n",
    "            speed = data[\"wind\"][\"speed\"]\n",
    "            clouds = data[\"clouds\"][\"all\"]\n",
    "            city_name = data[\"name\"]\n",
    "\n",
    "            #save the data\n",
    "            temps.append(temp)\n",
    "            feel_likes.append(feels_like)\n",
    "            humids.append(humidity)\n",
    "            pressures.append(pressure)\n",
    "            speeds.append(speed)\n",
    "            cloudiness.append(clouds)\n",
    "            cities_found.append(city_name)\n",
    "        except Exception as e:\n",
    "            print(f\"Through exception for city {city}: {e}\")\n",
    "            \n",
    "    elif response.status_code == 404:\n",
    "        temps.append(np.nan)\n",
    "        feel_likes.append(np.nan)\n",
    "        humids.append(np.nan)\n",
    "        pressures.append(np.nan)\n",
    "        speeds.append(np.nan)\n",
    "        cloudiness.append(np.nan)\n",
    "        cities_found.append(np.nan)\n",
    "        print(f\"Missing data in OpenWeatherAPI for {city}\")\n",
    "    else:\n",
    "        print(response.status_code)\n",
    "        print(\"Oh gosh darnit. The API is broken. Sad Face.\")\n",
    "        \n",
    "    #print every 5\n",
    "    if (i % 5 == 0):\n",
    "        print(f\"Got data for city index: {i} of {len(cities)}\")\n",
    "    \n",
    "    #sleep for requests\n",
    "    time.sleep(1)\n",
    "        \n",
    "# make the dataframe\n",
    "df[\"City\"] = cities_found\n",
    "df[\"Temperature\"] = temps\n",
    "df[\"Feels Like\"] = feel_likes\n",
    "df[\"Humidity\"] = humids\n",
    "df[\"Pressure\"] = pressures\n",
    "df[\"Wind Speed\"] = speeds\n",
    "df[\"Cloudiness\"] = cloudiness\n",
    "\n",
    "df.head(10)"
   ]
  },
  {
   "cell_type": "code",
   "execution_count": null,
   "metadata": {},
   "outputs": [],
   "source": [
    "df"
   ]
  },
  {
   "cell_type": "code",
   "execution_count": null,
   "metadata": {},
   "outputs": [],
   "source": [
    "dropped_df = df.dropna()\n",
    "dropped_df"
   ]
  },
  {
   "cell_type": "code",
   "execution_count": null,
   "metadata": {},
   "outputs": [],
   "source": [
    "dropped_df.to_csv(output_data_file, index=False)"
   ]
  },
  {
   "cell_type": "code",
   "execution_count": null,
   "metadata": {},
   "outputs": [],
   "source": [
    "plt.scatter(df[\"Temperature\"], df[\"Happiness Score\"], marker=\"o\")\n",
    "\n",
    "# Incorporate the other graph properties\n",
    "plt.title(\"Temperature vs Happiness Score\")\n",
    "plt.ylabel(\"Happiness Score\")\n",
    "plt.xlabel(\"Temperature\")\n",
    "plt.grid(True)\n",
    "\n",
    "\n",
    "# Show plot\n",
    "plt.show()"
   ]
  },
  {
   "cell_type": "code",
   "execution_count": null,
   "metadata": {},
   "outputs": [],
   "source": [
    "plt.scatter(df[\"Humidity\"], df[\"Happiness Score\"], marker=\"o\")\n",
    "\n",
    "# Incorporate the other graph properties\n",
    "plt.title(\"Humidity vs Happiness Score\")\n",
    "plt.ylabel(\"Humidity\")\n",
    "plt.xlabel(\"Happiness Score\")\n",
    "plt.grid(True)\n",
    "\n",
    "\n",
    "# Show plot\n",
    "plt.show()"
   ]
  },
  {
   "cell_type": "code",
   "execution_count": null,
   "metadata": {},
   "outputs": [],
   "source": []
  }
 ],
 "metadata": {
  "kernelspec": {
   "display_name": "Python 3",
   "language": "python",
   "name": "python3"
  },
  "language_info": {
   "codemirror_mode": {
    "name": "ipython",
    "version": 3
   },
   "file_extension": ".py",
   "mimetype": "text/x-python",
   "name": "python",
   "nbconvert_exporter": "python",
   "pygments_lexer": "ipython3",
   "version": "3.8.3"
  }
 },
 "nbformat": 4,
 "nbformat_minor": 4
}
