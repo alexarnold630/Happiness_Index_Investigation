{
 "cells": [
  {
   "cell_type": "code",
   "execution_count": 1,
   "metadata": {},
   "outputs": [],
   "source": [
    "import pandas as pd\n",
    "import numpy as np\n",
    "import matplotlib.pyplot as plt\n",
    "import seaborn as sns"
   ]
  },
  {
   "cell_type": "code",
   "execution_count": 2,
   "metadata": {},
   "outputs": [
    {
     "data": {
      "text/html": [
       "<div>\n",
       "<style scoped>\n",
       "    .dataframe tbody tr th:only-of-type {\n",
       "        vertical-align: middle;\n",
       "    }\n",
       "\n",
       "    .dataframe tbody tr th {\n",
       "        vertical-align: top;\n",
       "    }\n",
       "\n",
       "    .dataframe thead th {\n",
       "        text-align: right;\n",
       "    }\n",
       "</style>\n",
       "<table border=\"1\" class=\"dataframe\">\n",
       "  <thead>\n",
       "    <tr style=\"text-align: right;\">\n",
       "      <th></th>\n",
       "      <th>Country</th>\n",
       "      <th>Happiness Rank</th>\n",
       "      <th>Happiness Score</th>\n",
       "      <th>Economy (GDP per Capita)</th>\n",
       "      <th>Social Support</th>\n",
       "      <th>Health Life Expectancy</th>\n",
       "      <th>Freedom</th>\n",
       "      <th>Trust (Government Corruption)</th>\n",
       "      <th>Generosity</th>\n",
       "      <th>Year</th>\n",
       "    </tr>\n",
       "  </thead>\n",
       "  <tbody>\n",
       "    <tr>\n",
       "      <th>0</th>\n",
       "      <td>Switzerland</td>\n",
       "      <td>1</td>\n",
       "      <td>7.587</td>\n",
       "      <td>1.39651</td>\n",
       "      <td>1.34951</td>\n",
       "      <td>0.94143</td>\n",
       "      <td>0.66557</td>\n",
       "      <td>0.41978</td>\n",
       "      <td>0.29678</td>\n",
       "      <td>2015</td>\n",
       "    </tr>\n",
       "    <tr>\n",
       "      <th>1</th>\n",
       "      <td>Iceland</td>\n",
       "      <td>2</td>\n",
       "      <td>7.561</td>\n",
       "      <td>1.30232</td>\n",
       "      <td>1.40223</td>\n",
       "      <td>0.94784</td>\n",
       "      <td>0.62877</td>\n",
       "      <td>0.14145</td>\n",
       "      <td>0.43630</td>\n",
       "      <td>2015</td>\n",
       "    </tr>\n",
       "    <tr>\n",
       "      <th>2</th>\n",
       "      <td>Denmark</td>\n",
       "      <td>3</td>\n",
       "      <td>7.527</td>\n",
       "      <td>1.32548</td>\n",
       "      <td>1.36058</td>\n",
       "      <td>0.87464</td>\n",
       "      <td>0.64938</td>\n",
       "      <td>0.48357</td>\n",
       "      <td>0.34139</td>\n",
       "      <td>2015</td>\n",
       "    </tr>\n",
       "    <tr>\n",
       "      <th>3</th>\n",
       "      <td>Norway</td>\n",
       "      <td>4</td>\n",
       "      <td>7.522</td>\n",
       "      <td>1.45900</td>\n",
       "      <td>1.33095</td>\n",
       "      <td>0.88521</td>\n",
       "      <td>0.66973</td>\n",
       "      <td>0.36503</td>\n",
       "      <td>0.34699</td>\n",
       "      <td>2015</td>\n",
       "    </tr>\n",
       "    <tr>\n",
       "      <th>4</th>\n",
       "      <td>Canada</td>\n",
       "      <td>5</td>\n",
       "      <td>7.427</td>\n",
       "      <td>1.32629</td>\n",
       "      <td>1.32261</td>\n",
       "      <td>0.90563</td>\n",
       "      <td>0.63297</td>\n",
       "      <td>0.32957</td>\n",
       "      <td>0.45811</td>\n",
       "      <td>2015</td>\n",
       "    </tr>\n",
       "  </tbody>\n",
       "</table>\n",
       "</div>"
      ],
      "text/plain": [
       "       Country  Happiness Rank  Happiness Score  Economy (GDP per Capita)  \\\n",
       "0  Switzerland               1            7.587                   1.39651   \n",
       "1      Iceland               2            7.561                   1.30232   \n",
       "2      Denmark               3            7.527                   1.32548   \n",
       "3       Norway               4            7.522                   1.45900   \n",
       "4       Canada               5            7.427                   1.32629   \n",
       "\n",
       "   Social Support  Health Life Expectancy  Freedom  \\\n",
       "0         1.34951                 0.94143  0.66557   \n",
       "1         1.40223                 0.94784  0.62877   \n",
       "2         1.36058                 0.87464  0.64938   \n",
       "3         1.33095                 0.88521  0.66973   \n",
       "4         1.32261                 0.90563  0.63297   \n",
       "\n",
       "   Trust (Government Corruption)  Generosity  Year  \n",
       "0                        0.41978     0.29678  2015  \n",
       "1                        0.14145     0.43630  2015  \n",
       "2                        0.48357     0.34139  2015  \n",
       "3                        0.36503     0.34699  2015  \n",
       "4                        0.32957     0.45811  2015  "
      ]
     },
     "execution_count": 2,
     "metadata": {},
     "output_type": "execute_result"
    }
   ],
   "source": [
    "filepath1 = \"Vertical_Merge.csv\"\n",
    "df= pd.read_csv(filepath1)\n",
    "df.head()"
   ]
  },
  {
   "cell_type": "code",
   "execution_count": 3,
   "metadata": {},
   "outputs": [
    {
     "data": {
      "text/plain": [
       "Denmark        6\n",
       "Norway         6\n",
       "Iceland        6\n",
       "Switzerland    5\n",
       "Finland        5\n",
       "Netherlands    1\n",
       "Canada         1\n",
       "Name: Country, dtype: int64"
      ]
     },
     "execution_count": 3,
     "metadata": {},
     "output_type": "execute_result"
    }
   ],
   "source": [
    "mask = df.loc[df[\"Happiness Rank\"] <= 5]\n",
    "mask.Country.value_counts()"
   ]
  },
  {
   "cell_type": "code",
   "execution_count": 4,
   "metadata": {},
   "outputs": [
    {
     "data": {
      "text/plain": [
       "array(['Switzerland', 'Iceland', 'Denmark', 'Norway', 'Canada', 'Finland',\n",
       "       'Netherlands'], dtype=object)"
      ]
     },
     "execution_count": 4,
     "metadata": {},
     "output_type": "execute_result"
    }
   ],
   "source": [
    "mask[\"Country\"].unique()"
   ]
  },
  {
   "cell_type": "code",
   "execution_count": 5,
   "metadata": {},
   "outputs": [
    {
     "data": {
      "text/plain": [
       "<matplotlib.axes._subplots.AxesSubplot at 0x7fa7bd554b20>"
      ]
     },
     "execution_count": 5,
     "metadata": {},
     "output_type": "execute_result"
    },
    {
     "data": {
      "image/png": "[encoded data removed]",
      "text/plain": [
       "<Figure size 432x288 with 1 Axes>"
      ]
     },
     "metadata": {
      "needs_background": "light"
     },
     "output_type": "display_data"
    }
   ],
   "source": [
    "mask[\"Happiness Score\"].plot(kind=\"hist\")"
   ]
  },
  {
   "cell_type": "code",
   "execution_count": 6,
   "metadata": {},
   "outputs": [
    {
     "data": {
      "text/plain": [
       "Year\n",
       "2015    5.375734\n",
       "2016    5.382185\n",
       "2017    5.354019\n",
       "2018    5.375917\n",
       "2019    5.407096\n",
       "2020    5.473240\n",
       "Name: Happiness Score, dtype: float64"
      ]
     },
     "execution_count": 6,
     "metadata": {},
     "output_type": "execute_result"
    }
   ],
   "source": [
    "df.groupby(\"Year\")[\"Happiness Score\"].mean()"
   ]
  },
  {
   "cell_type": "code",
   "execution_count": 25,
   "metadata": {},
   "outputs": [],
   "source": [
    "max_happiness = df.groupby(\"Year\")[\"Happiness Score\"].max()"
   ]
  },
  {
   "cell_type": "code",
   "execution_count": 26,
   "metadata": {},
   "outputs": [],
   "source": [
    "min_happiness = df.groupby(\"Year\")[\"Happiness Score\"].min()"
   ]
  },
  {
   "cell_type": "code",
   "execution_count": 27,
   "metadata": {},
   "outputs": [
    {
     "data": {
      "text/plain": [
       "Year\n",
       "2015    5.2325\n",
       "2016    5.3140\n",
       "2017    5.2790\n",
       "2018    5.3780\n",
       "2019    5.3795\n",
       "2020    5.5150\n",
       "Name: Happiness Score, dtype: float64"
      ]
     },
     "execution_count": 27,
     "metadata": {},
     "output_type": "execute_result"
    }
   ],
   "source": [
    "df.groupby(\"Year\")[\"Happiness Score\"].median()"
   ]
  },
  {
   "cell_type": "code",
   "execution_count": 28,
   "metadata": {},
   "outputs": [
    {
     "data": {
      "text/plain": [
       "<matplotlib.axes._subplots.AxesSubplot at 0x7fa7bdfc8b20>"
      ]
     },
     "execution_count": 28,
     "metadata": {},
     "output_type": "execute_result"
    },
    {
     "data": {
      "image/png": "[encoded data removed]",
      "text/plain": [
       "<Figure size 432x288 with 1 Axes>"
      ]
     },
     "metadata": {
      "needs_background": "light"
     },
     "output_type": "display_data"
    }
   ],
   "source": [
    "df['Happiness Score'].plot(kind=\"hist\", bins=20)\n",
    "#test for normality"
   ]
  },
  {
   "cell_type": "code",
   "execution_count": 29,
   "metadata": {},
   "outputs": [
    {
     "data": {
      "image/png": "[encoded data removed]",
      "text/plain": [
       "<Figure size 720x432 with 1 Axes>"
      ]
     },
     "metadata": {
      "needs_background": "light"
     },
     "output_type": "display_data"
    }
   ],
   "source": [
    "#figsize\n",
    "plt.figure(figsize=(10,6))\n",
    "#raw plot\n",
    "plt.bar(max_data.index, max_data.values, color='forestgreen', alpha=0.5, align=\"center\", width=0.7, label = \"Max\")\n",
    "plt.bar(min_data.index, min_data.values, color='firebrick', alpha=0.5, align=\"center\", width=0.7, label = \"Min\")\n",
    "\n",
    "# Give our chart some labels and a tile\n",
    "plt.title(\"Max Happiness by Year\", fontweight=\"bold\", fontsize=18, fontname=\"Lucida Calligraphy\")\n",
    "plt.xlabel(\"Year\", fontsize=16, fontname=\"Lucida Calligraphy\")\n",
    "plt.ylabel(\"Happiness Score\", fontsize=16, fontname=\"Lucida Calligraphy\")\n",
    "plt.legend()\n",
    "\n",
    "#show/save\n",
    "plt.show()\n"
   ]
  },
  {
   "cell_type": "code",
   "execution_count": 31,
   "metadata": {},
   "outputs": [
    {
     "data": {
      "image/png": "[encoded data removed]",
      "text/plain": [
       "<Figure size 720x432 with 1 Axes>"
      ]
     },
     "metadata": {
      "needs_background": "light"
     },
     "output_type": "display_data"
    }
   ],
   "source": [
    "# Numbers of pairs of bars you want\n",
    "N = 6\n",
    "\n",
    "# Data on X-axis\n",
    "\n",
    "# Specify the values of blue bars (height)\n",
    "max_bar = max_happiness\n",
    "# Specify the values of orange bars (height)\n",
    "min_bar = min_happiness\n",
    "\n",
    "# Position of bars on x-axis\n",
    "ind = np.arange(N)\n",
    "\n",
    "# Figure size\n",
    "plt.figure(figsize=(10,6))\n",
    "\n",
    "# Width of a bar \n",
    "width = 0.3       \n",
    "\n",
    "# Plotting\n",
    "plt.bar(ind, max_bar , width, label='Max')\n",
    "plt.bar(ind + width, min_bar, width, label='Min')\n",
    "\n",
    "plt.xlabel('Year')\n",
    "plt.ylabel('Happiness Score')\n",
    "plt.title('Happiness Score by Year')\n",
    "\n",
    "# xticks()\n",
    "# First argument - A list of positions at which ticks should be placed\n",
    "# Second argument -  A list of labels to place at the given locations\n",
    "plt.xticks(ind + width / 2, ('2015', '2016', '2017', '2018', '2019', '2020'))\n",
    "\n",
    "# Finding the best position for legends and putting it\n",
    "plt.legend(loc='best')\n",
    "plt.show()"
   ]
  },
  {
   "cell_type": "code",
   "execution_count": 20,
   "metadata": {},
   "outputs": [
    {
     "data": {
      "text/plain": [
       "Year\n",
       "2015    0.991046\n",
       "2016    0.793621\n",
       "2017    1.188898\n",
       "2018    1.213237\n",
       "2019    1.208814\n",
       "2020    0.808721\n",
       "Name: Social Support, dtype: float64"
      ]
     },
     "execution_count": 20,
     "metadata": {},
     "output_type": "execute_result"
    }
   ],
   "source": [
    "df.groupby(\"Year\")[\"Social Support\"].mean()"
   ]
  },
  {
   "cell_type": "code",
   "execution_count": 35,
   "metadata": {},
   "outputs": [
    {
     "data": {
      "text/plain": [
       "Year\n",
       "2015    1.402230\n",
       "2016    1.183260\n",
       "2017    1.610574\n",
       "2018    1.644000\n",
       "2019    1.624000\n",
       "2020    0.974670\n",
       "Name: Social Support, dtype: float64"
      ]
     },
     "execution_count": 35,
     "metadata": {},
     "output_type": "execute_result"
    }
   ],
   "source": [
    "df.groupby(\"Year\")[\"Social Support\"].max()"
   ]
  },
  {
   "cell_type": "code",
   "execution_count": 36,
   "metadata": {},
   "outputs": [
    {
     "data": {
      "text/plain": [
       "Year\n",
       "2015    0.00000\n",
       "2016    0.00000\n",
       "2017    0.00000\n",
       "2018    0.00000\n",
       "2019    0.00000\n",
       "2020    0.31946\n",
       "Name: Social Support, dtype: float64"
      ]
     },
     "execution_count": 36,
     "metadata": {},
     "output_type": "execute_result"
    }
   ],
   "source": [
    "df.groupby(\"Year\")[\"Social Support\"].min()"
   ]
  },
  {
   "cell_type": "code",
   "execution_count": 37,
   "metadata": {},
   "outputs": [
    {
     "data": {
      "text/plain": [
       "Year\n",
       "2015    1.029510\n",
       "2016    0.841420\n",
       "2017    1.253918\n",
       "2018    1.255000\n",
       "2019    1.271500\n",
       "2020    0.829204\n",
       "Name: Social Support, dtype: float64"
      ]
     },
     "execution_count": 37,
     "metadata": {},
     "output_type": "execute_result"
    }
   ],
   "source": [
    "df.groupby(\"Year\")[\"Social Support\"].median()"
   ]
  },
  {
   "cell_type": "code",
   "execution_count": 38,
   "metadata": {},
   "outputs": [],
   "source": [
    "max_support = df.groupby(\"Year\")[\"Social Support\"].max()"
   ]
  },
  {
   "cell_type": "code",
   "execution_count": 39,
   "metadata": {},
   "outputs": [],
   "source": [
    "min_support = df.groupby(\"Year\")[\"Social Support\"].min()"
   ]
  },
  {
   "cell_type": "code",
   "execution_count": 40,
   "metadata": {},
   "outputs": [
    {
     "data": {
      "text/plain": [
       "<matplotlib.axes._subplots.AxesSubplot at 0x7fa7be301ee0>"
      ]
     },
     "execution_count": 40,
     "metadata": {},
     "output_type": "execute_result"
    },
    {
     "data": {
      "image/png": "[encoded data removed]",
      "text/plain": [
       "<Figure size 432x288 with 1 Axes>"
      ]
     },
     "metadata": {
      "needs_background": "light"
     },
     "output_type": "display_data"
    }
   ],
   "source": [
    "df['Social Support'].plot(kind=\"hist\", bins=20)\n",
    "#test for normality"
   ]
  },
  {
   "cell_type": "code",
   "execution_count": 41,
   "metadata": {},
   "outputs": [
    {
     "data": {
      "image/png": "[encoded data removed]",
      "text/plain": [
       "<Figure size 720x432 with 1 Axes>"
      ]
     },
     "metadata": {
      "needs_background": "light"
     },
     "output_type": "display_data"
    }
   ],
   "source": [
    "# Numbers of pairs of bars you want\n",
    "N = 6\n",
    "\n",
    "# Data on X-axis\n",
    "\n",
    "# Specify the values of blue bars (height)\n",
    "max_bar = max_support\n",
    "# Specify the values of orange bars (height)\n",
    "min_bar = min_support\n",
    "\n",
    "# Position of bars on x-axis\n",
    "ind = np.arange(N)\n",
    "\n",
    "# Figure size\n",
    "plt.figure(figsize=(10,6))\n",
    "\n",
    "# Width of a bar \n",
    "width = 0.3       \n",
    "\n",
    "# Plotting\n",
    "plt.bar(ind, max_bar , width, label='Max')\n",
    "plt.bar(ind + width, min_bar, width, label='Min')\n",
    "\n",
    "plt.xlabel('Year')\n",
    "plt.ylabel('Social Support')\n",
    "plt.title('Social Support by Year')\n",
    "\n",
    "# xticks()\n",
    "# First argument - A list of positions at which ticks should be placed\n",
    "# Second argument -  A list of labels to place at the given locations\n",
    "plt.xticks(ind + width / 2, ('2015', '2016', '2017', '2018', '2019', '2020'))\n",
    "\n",
    "# Finding the best position for legends and putting it\n",
    "plt.legend(loc='best')\n",
    "plt.show()"
   ]
  },
  {
   "cell_type": "code",
   "execution_count": null,
   "metadata": {},
   "outputs": [],
   "source": [
    "#top 5- line graph, happiness score per year, how scores changed & do again for bottom 5\n",
    "Iceland        6\n",
    "Denmark        6\n",
    "Norway         6"
   ]
  },
  {
   "cell_type": "code",
   "execution_count": 18,
   "metadata": {},
   "outputs": [
    {
     "data": {
      "text/plain": [
       "<matplotlib.axes._subplots.AxesSubplot at 0x7fa7bdfbd940>"
      ]
     },
     "execution_count": 18,
     "metadata": {},
     "output_type": "execute_result"
    },
    {
     "data": {
      "image/png": "[encoded data removed]",
      "text/plain": [
       "<Figure size 432x288 with 1 Axes>"
      ]
     },
     "metadata": {
      "needs_background": "light"
     },
     "output_type": "display_data"
    }
   ],
   "source": [
    "sns.violinplot(x=\"Year\", y=\"Happiness Score\", data=df)"
   ]
  },
  {
   "cell_type": "code",
   "execution_count": null,
   "metadata": {},
   "outputs": [],
   "source": []
  }
 ],
 "metadata": {
  "kernelspec": {
   "display_name": "Python 3",
   "language": "python",
   "name": "python3"
  },
  "language_info": {
   "codemirror_mode": {
    "name": "ipython",
    "version": 3
   },
   "file_extension": ".py",
   "mimetype": "text/x-python",
   "name": "python",
   "nbconvert_exporter": "python",
   "pygments_lexer": "ipython3",
   "version": "3.8.3"
  }
 },
 "nbformat": 4,
 "nbformat_minor": 4
}
